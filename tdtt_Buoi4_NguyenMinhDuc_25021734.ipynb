{
 "cells": [
  {
   "cell_type": "code",
   "execution_count": 1,
   "id": "94fe5684",
   "metadata": {},
   "outputs": [
    {
     "name": "stdout",
     "output_type": "stream",
     "text": [
      "55\n"
     ]
    }
   ],
   "source": [
    "n = int(input())\n",
    "sum = 0\n",
    "for i in range(n + 1):\n",
    "    sum += i\n",
    "print(sum)"
   ]
  },
  {
   "cell_type": "code",
   "execution_count": 12,
   "id": "feddd3be",
   "metadata": {},
   "outputs": [
    {
     "name": "stdout",
     "output_type": "stream",
     "text": [
      "False\n"
     ]
    }
   ],
   "source": [
    "def snt(x):\n",
    "    i = 2\n",
    "    while i * i <= x:\n",
    "        if x % i == 0:\n",
    "            return False\n",
    "        i += 1\n",
    "    return x >= 2\n",
    "    \n",
    "check = True\n",
    "while check == True:\n",
    "    n = int(input())\n",
    "    if n > 0:\n",
    "        check = False\n",
    "        print(snt(n))"
   ]
  },
  {
   "cell_type": "code",
   "execution_count": 14,
   "id": "411f6ecc",
   "metadata": {},
   "outputs": [
    {
     "name": "stdout",
     "output_type": "stream",
     "text": [
      "1\n"
     ]
    }
   ],
   "source": [
    "n = int(input())\n",
    "res = 1\n",
    "for i in range (1, n + 1):\n",
    "    res *= i\n",
    "print(res)"
   ]
  },
  {
   "cell_type": "code",
   "execution_count": 25,
   "id": "64ef30b9",
   "metadata": {},
   "outputs": [
    {
     "name": "stdout",
     "output_type": "stream",
     "text": [
      "4\n"
     ]
    }
   ],
   "source": [
    "n = int(input())\n",
    "n = abs(n)\n",
    "cnt = 0\n",
    "if n == 0:\n",
    "    print(1)\n",
    "else:\n",
    "    while n != 0:\n",
    "        cnt += 1\n",
    "        n //= 10\n",
    "    print(cnt)"
   ]
  },
  {
   "cell_type": "code",
   "execution_count": 27,
   "id": "30843004",
   "metadata": {},
   "outputs": [
    {
     "name": "stdout",
     "output_type": "stream",
     "text": [
      "It's a joke!\n"
     ]
    }
   ],
   "source": [
    "n = int(input())\n",
    "check = False\n",
    "arr = list(map(int, input().split()))\n",
    "for a in arr:\n",
    "    if a == 42:\n",
    "        check = True\n",
    "if check == True:\n",
    "    print(\"I've found the meaning of life!\")\n",
    "else:\n",
    "    print(\"It's a joke!\")\n",
    "    "
   ]
  },
  {
   "cell_type": "code",
   "execution_count": 32,
   "id": "22e8a380",
   "metadata": {},
   "outputs": [
    {
     "name": "stdout",
     "output_type": "stream",
     "text": [
      "2\n"
     ]
    }
   ],
   "source": [
    "def snt(x):\n",
    "    i = 2\n",
    "    while i * i <= x:\n",
    "        if x % i == 0:\n",
    "            return False\n",
    "        i += 1\n",
    "    return x >= 2\n",
    "a, b = map(int, input().split())\n",
    "sum = 0\n",
    "for i in range(a, b + 1):\n",
    "    if snt(i):\n",
    "        sum += i\n",
    "print(sum)"
   ]
  },
  {
   "cell_type": "code",
   "execution_count": 41,
   "id": "1a7333b9",
   "metadata": {},
   "outputs": [
    {
     "name": "stdout",
     "output_type": "stream",
     "text": [
      "99991\n"
     ]
    }
   ],
   "source": [
    "def snt(x):\n",
    "    i = 2\n",
    "    while i * i <= x:\n",
    "        if x % i == 0:\n",
    "            return False\n",
    "        i += 1\n",
    "    return x >= 2\n",
    "n = int(input())\n",
    "i = 1\n",
    "res = 0\n",
    "while i * i <= n:\n",
    "    if n % i == 0:\n",
    "        if snt(i):\n",
    "            res = max(res, i)\n",
    "        if snt(int(n / i)):\n",
    "            res = max(res, int(n / i))\n",
    "    i += 1\n",
    "print(res)\n"
   ]
  },
  {
   "cell_type": "code",
   "execution_count": 56,
   "id": "33e8f6ec",
   "metadata": {},
   "outputs": [
    {
     "name": "stdout",
     "output_type": "stream",
     "text": [
      "24 8813200023188\n"
     ]
    }
   ],
   "source": [
    "def rev(n):\n",
    "    res = 0\n",
    "    while n != 0:\n",
    "        res *= 10\n",
    "        res += n % 10\n",
    "        n //= 10\n",
    "    return res\n",
    "n = int(input())\n",
    "cnt = 0\n",
    "while n != rev(n):\n",
    "    n += rev(n)\n",
    "    cnt += 1\n",
    "print(cnt, n)"
   ]
  },
  {
   "cell_type": "code",
   "execution_count": 71,
   "id": "c2c7ef88",
   "metadata": {},
   "outputs": [
    {
     "name": "stdout",
     "output_type": "stream",
     "text": [
      "1 4 9 16 25 36 49 "
     ]
    }
   ],
   "source": [
    "from math import sqrt\n",
    "def dist_num(n):\n",
    "    cnt = [0] * 10\n",
    "    while n != 0:\n",
    "        cnt[n % 10] += 1\n",
    "        n //= 10\n",
    "    for i in cnt:\n",
    "        if i > 1:\n",
    "            return False\n",
    "    return True\n",
    "n = int(input())\n",
    "check = False\n",
    "for i in range(1, int(sqrt(n)) + 1):\n",
    "    if dist_num(i * i):\n",
    "        print(i * i, end = ' ')\n",
    "        check = True\n",
    "if check == False:\n",
    "    print(\"no number\")"
   ]
  },
  {
   "cell_type": "code",
   "execution_count": 76,
   "id": "ef1007cf",
   "metadata": {},
   "outputs": [
    {
     "name": "stdout",
     "output_type": "stream",
     "text": [
      "171 125\n"
     ]
    }
   ],
   "source": [
    "def collatz_check(n):\n",
    "    cnt = 1\n",
    "    while n != 1:\n",
    "        if n % 2 == 0:\n",
    "            n //= 2\n",
    "            cnt += 1\n",
    "        else:\n",
    "            n = 3 * n + 1\n",
    "            cnt += 1\n",
    "    return cnt\n",
    "n = int(input())\n",
    "mx = res = 0\n",
    "for i in range(1, n + 1):\n",
    "    tmp = collatz_check(i)\n",
    "    if tmp > mx:\n",
    "        mx = tmp\n",
    "        res = i\n",
    "print(res, mx)"
   ]
  },
  {
   "cell_type": "code",
   "execution_count": 79,
   "id": "b2e4e9b8",
   "metadata": {},
   "outputs": [
    {
     "name": "stdout",
     "output_type": "stream",
     "text": [
      "2\n"
     ]
    }
   ],
   "source": [
    "n = int(input())\n",
    "cnt = 0\n",
    "for i in range(1, n + 1):\n",
    "    if n % i == 0 and i % 2 == 0:\n",
    "        cnt += 1\n",
    "print(cnt) "
   ]
  },
  {
   "cell_type": "code",
   "execution_count": 83,
   "id": "6413f5af",
   "metadata": {},
   "outputs": [
    {
     "name": "stdout",
     "output_type": "stream",
     "text": [
      "217462\n"
     ]
    }
   ],
   "source": [
    "money, n = map(int, input().split())\n",
    "for i in range(n):\n",
    "    money += money * 0.007\n",
    "print(int(money))"
   ]
  },
  {
   "cell_type": "code",
   "execution_count": 91,
   "id": "e31f7938",
   "metadata": {},
   "outputs": [
    {
     "name": "stdout",
     "output_type": "stream",
     "text": [
      "true\n"
     ]
    }
   ],
   "source": [
    "def sum_div(n):\n",
    "    i = 1\n",
    "    sum = 0\n",
    "    while i * i <= n:\n",
    "        if n % i == 0:\n",
    "            sum += i\n",
    "            sum += n // i\n",
    "            if i * i == n:\n",
    "                sum -= i\n",
    "        i += 1\n",
    "    return sum - n\n",
    "a, b = map(int, input().split())\n",
    "if a == sum_div(b) and b == sum_div(a):\n",
    "    print(\"true\")\n",
    "else:\n",
    "    print(\"false\")"
   ]
  },
  {
   "cell_type": "code",
   "execution_count": 96,
   "id": "577e1c84",
   "metadata": {},
   "outputs": [
    {
     "name": "stdout",
     "output_type": "stream",
     "text": [
      "8\n"
     ]
    }
   ],
   "source": [
    "def gcd(a, b):\n",
    "    if b == 0:\n",
    "        return a\n",
    "    return gcd(b, a % b)\n",
    "a, b = map(int, input().split())\n",
    "print(gcd(a, b))"
   ]
  },
  {
   "cell_type": "code",
   "execution_count": 102,
   "id": "8ace2dc9",
   "metadata": {},
   "outputs": [
    {
     "name": "stdout",
     "output_type": "stream",
     "text": [
      "119 1\n"
     ]
    }
   ],
   "source": [
    "a, b = map(int, input().split())\n",
    "if (b - 2 * a) % 2 == 0:\n",
    "    print(a - (b - 2 * a) // 2, (b - 2 * a) // 2)\n",
    "else:\n",
    "    print(\"invalid\")"
   ]
  },
  {
   "cell_type": "code",
   "execution_count": 103,
   "id": "7cb5c195",
   "metadata": {},
   "outputs": [
    {
     "name": "stdout",
     "output_type": "stream",
     "text": [
      "6 12 18 24 30 36 42 48 54 60 66 72 78 84 90 96 "
     ]
    }
   ],
   "source": [
    "for i in range(6, 97, 6):\n",
    "    print(i, end = ' ')"
   ]
  },
  {
   "cell_type": "code",
   "execution_count": 104,
   "id": "76f9fe3a",
   "metadata": {},
   "outputs": [
    {
     "name": "stdout",
     "output_type": "stream",
     "text": [
      "5 x 1 = 5\n",
      "5 x 2 = 10\n",
      "5 x 3 = 15\n",
      "5 x 4 = 20\n",
      "5 x 5 = 25\n",
      "5 x 6 = 30\n",
      "5 x 7 = 35\n",
      "5 x 8 = 40\n",
      "5 x 9 = 45\n",
      "5 x 10 = 50\n"
     ]
    }
   ],
   "source": [
    "a = int(input())\n",
    "for i in range(1, 11):\n",
    "    print(f\"{a} x {i} = {a * i}\")"
   ]
  },
  {
   "cell_type": "code",
   "execution_count": 106,
   "id": "4f9444c1",
   "metadata": {},
   "outputs": [
    {
     "name": "stdout",
     "output_type": "stream",
     "text": [
      "2 4 6 8 "
     ]
    }
   ],
   "source": [
    "n = int(input())\n",
    "for i in range(2, n + 1, 2):\n",
    "    print(i, end = ' ')"
   ]
  },
  {
   "cell_type": "code",
   "execution_count": 108,
   "id": "ff03bc5e",
   "metadata": {},
   "outputs": [
    {
     "name": "stdout",
     "output_type": "stream",
     "text": [
      "63 không viết được dưới dạng 2^k\n"
     ]
    }
   ],
   "source": [
    "n = int(input())\n",
    "if n & (n - 1) == 0:\n",
    "    print(f\"{n} viết được dưới dạng 2^k\")\n",
    "else:\n",
    "    print(f\"{n} không viết được dưới dạng 2^k\")"
   ]
  },
  {
   "cell_type": "code",
   "execution_count": 110,
   "id": "dbb3faf7",
   "metadata": {},
   "outputs": [
    {
     "name": "stdout",
     "output_type": "stream",
     "text": [
      "15\n"
     ]
    }
   ],
   "source": [
    "def sum_dig(n):\n",
    "    sum = 0\n",
    "    while n != 0:\n",
    "        sum += n % 10\n",
    "        n //= 10\n",
    "    return sum\n",
    "n = int(input())\n",
    "print(sum_dig(n))"
   ]
  },
  {
   "cell_type": "code",
   "execution_count": null,
   "id": "b32ab18f",
   "metadata": {},
   "outputs": [
    {
     "name": "stdout",
     "output_type": "stream",
     "text": [
      "0 có 2 chữ số chẵn\n",
      "0 có 3 chữ số lẻ\n"
     ]
    }
   ],
   "source": [
    "n = int(input())\n",
    "od = ev = 0\n",
    "while n != 0:\n",
    "    od += (n % 10) % 2\n",
    "    ev += 1\n",
    "    n //= 10\n",
    "print(f\"n có {ev - od} chữ số chẵn\")\n",
    "print(f\"n có {od} chữ số lẻ\")"
   ]
  },
  {
   "cell_type": "code",
   "execution_count": 113,
   "id": "6592cb18",
   "metadata": {},
   "outputs": [
    {
     "name": "stdout",
     "output_type": "stream",
     "text": [
      "3\n"
     ]
    }
   ],
   "source": [
    "from math import sqrt\n",
    "n = int(input())\n",
    "idx = int(sqrt(2*n)) + 1\n",
    "while (idx * (idx + 1) / 2) >= n:\n",
    "    idx -= 1\n",
    "print(idx)"
   ]
  },
  {
   "cell_type": "code",
   "execution_count": 115,
   "id": "1ca5fd5c",
   "metadata": {},
   "outputs": [
    {
     "name": "stdout",
     "output_type": "stream",
     "text": [
      "4\n"
     ]
    }
   ],
   "source": [
    "A = float(input())\n",
    "n = 0\n",
    "sum = 0.0\n",
    "while sum <= A:\n",
    "    n += 1\n",
    "    sum += 1 / n\n",
    "print(n)"
   ]
  },
  {
   "cell_type": "code",
   "execution_count": 123,
   "id": "a4120820",
   "metadata": {},
   "outputs": [
    {
     "name": "stdout",
     "output_type": "stream",
     "text": [
      "6 1\n"
     ]
    }
   ],
   "source": [
    "mx = mn = idx = n = 0\n",
    "while n != -1:\n",
    "    n = int(input())\n",
    "    if idx == 0:\n",
    "        mn = mx = n\n",
    "        idx = 1\n",
    "    if n != -1:\n",
    "        mn = min(mn, n)\n",
    "        mx = max(mx, n)\n",
    "print(mx, mn)"
   ]
  },
  {
   "cell_type": "code",
   "execution_count": 129,
   "id": "2be60ea1",
   "metadata": {},
   "outputs": [
    {
     "name": "stdout",
     "output_type": "stream",
     "text": [
      "13\n"
     ]
    }
   ],
   "source": [
    "def fib(a, b, n):\n",
    "    if b > n:\n",
    "        return a\n",
    "    if b == n:\n",
    "        return b\n",
    "    if b < n:\n",
    "        return fib(b, a + b, n)\n",
    "n = int(input())\n",
    "if n == 1:\n",
    "    print(1)\n",
    "else:\n",
    "    print(fib(1, 1, n))\n"
   ]
  },
  {
   "cell_type": "code",
   "execution_count": null,
   "id": "afe77bc8",
   "metadata": {},
   "outputs": [
    {
     "name": "stdout",
     "output_type": "stream",
     "text": [
      "8\n"
     ]
    }
   ],
   "source": [
    "st = input()\n",
    "cnt = 0\n",
    "if st[0].isalpha():\n",
    "    cnt += 1\n",
    "for i in range(len(st) - 1):\n",
    "    if st[i] == ' ' and st[i + 1].isalpha():\n",
    "        cnt += 1\n",
    "print(cnt)"
   ]
  },
  {
   "cell_type": "code",
   "execution_count": 136,
   "id": "cf0c0f8f",
   "metadata": {},
   "outputs": [
    {
     "name": "stdout",
     "output_type": "stream",
     "text": [
      "me"
     ]
    }
   ],
   "source": [
    "st = input()\n",
    "idx = 0\n",
    "\n",
    "while st[idx].isalpha() == False and idx < len(st):\n",
    "    idx += 1\n",
    "while st[idx].isalpha() == True:\n",
    "    print(st[idx], end = '')\n",
    "    idx += 1"
   ]
  },
  {
   "cell_type": "code",
   "execution_count": 142,
   "id": "50444244",
   "metadata": {},
   "outputs": [
    {
     "name": "stdout",
     "output_type": "stream",
     "text": [
      "30\n"
     ]
    }
   ],
   "source": [
    "st = input()\n",
    "i = 0\n",
    "sum = 0\n",
    "while i < len(st):\n",
    "    if st[i].isalnum():\n",
    "        cur = 0\n",
    "        while i < len(st) and st[i].isdigit():\n",
    "            cur *= 10\n",
    "            cur += int(st[i])\n",
    "            i += 1\n",
    "        sum += cur\n",
    "    i += 1\n",
    "print(sum)\n"
   ]
  },
  {
   "cell_type": "code",
   "execution_count": 143,
   "id": "2dec2a4c",
   "metadata": {},
   "outputs": [
    {
     "name": "stdout",
     "output_type": "stream",
     "text": [
      "3 3 3\n"
     ]
    }
   ],
   "source": [
    "st = input()\n",
    "up = dn = num = 0;\n",
    "for let in st:\n",
    "    if let.isupper():\n",
    "        up += 1\n",
    "    if let.islower():\n",
    "        dn += 1\n",
    "    if let.isdigit():\n",
    "        num += 1\n",
    "print(up, dn, num)"
   ]
  },
  {
   "cell_type": "code",
   "execution_count": 144,
   "id": "b04a8f5a",
   "metadata": {},
   "outputs": [
    {
     "name": "stdout",
     "output_type": "stream",
     "text": [
      "21\n"
     ]
    }
   ],
   "source": [
    "st = input()\n",
    "sum = 0\n",
    "for let in st:\n",
    "    if let.isdigit():\n",
    "        sum += int(let)\n",
    "print(sum)"
   ]
  },
  {
   "cell_type": "code",
   "execution_count": 149,
   "id": "a445438c",
   "metadata": {},
   "outputs": [
    {
     "name": "stdout",
     "output_type": "stream",
     "text": [
      "No\n"
     ]
    }
   ],
   "source": [
    "st = input()\n",
    "if len(st) < 6:\n",
    "    print(\"No\")\n",
    "else:\n",
    "    spec = up = dn = dig = 0\n",
    "    for let in st:\n",
    "        if let.isupper():\n",
    "            up = 1\n",
    "        elif let.islower():\n",
    "            dn = 1\n",
    "        elif let.isdigit():\n",
    "            dig = 1\n",
    "        else: \n",
    "            spec = 1\n",
    "    if spec * up * dn * dig == 1:\n",
    "        print(\"Yes\")\n",
    "    else:\n",
    "        print(\"No\")\n"
   ]
  },
  {
   "cell_type": "code",
   "execution_count": 155,
   "id": "7c2cfd66",
   "metadata": {},
   "outputs": [
    {
     "name": "stdout",
     "output_type": "stream",
     "text": [
      "123.456.789"
     ]
    }
   ],
   "source": [
    "st = input()\n",
    "st_list = list(st)\n",
    "if len(st) <= 3:\n",
    "    print(st)\n",
    "else:\n",
    "    i = len(st_list) - 3\n",
    "    while i > 0:\n",
    "        st_list.insert(i, '.')\n",
    "        i -= 3\n",
    "    for dig in st_list:\n",
    "        print(dig, end = '')"
   ]
  },
  {
   "cell_type": "code",
   "execution_count": 157,
   "id": "8338f3bf",
   "metadata": {},
   "outputs": [
    {
     "name": "stdout",
     "output_type": "stream",
     "text": [
      "xin chao   xin chao"
     ]
    }
   ],
   "source": [
    "a = input()\n",
    "b = input()\n",
    "i = 0\n",
    "while i < len(a):\n",
    "    tmp = a[i : i + len(b)]\n",
    "    if tmp == b:\n",
    "        i += len(b)\n",
    "    else:\n",
    "        print(a[i], end = '')\n",
    "        i += 1"
   ]
  }
 ],
 "metadata": {
  "kernelspec": {
   "display_name": "venv",
   "language": "python",
   "name": "python3"
  },
  "language_info": {
   "codemirror_mode": {
    "name": "ipython",
    "version": 3
   },
   "file_extension": ".py",
   "mimetype": "text/x-python",
   "name": "python",
   "nbconvert_exporter": "python",
   "pygments_lexer": "ipython3",
   "version": "3.10.0"
  }
 },
 "nbformat": 4,
 "nbformat_minor": 5
}
